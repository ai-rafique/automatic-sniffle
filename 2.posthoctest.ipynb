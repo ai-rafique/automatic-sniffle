{
 "cells": [
  {
   "cell_type": "code",
   "execution_count": 1,
   "outputs": [],
   "source": [
    "import pandas as pd\n",
    "import numpy as np\n",
    "from scipy import stats\n",
    "import stac"
   ],
   "metadata": {
    "collapsed": false
   }
  },
  {
   "cell_type": "code",
   "execution_count": 2,
   "outputs": [
    {
     "name": "stdout",
     "output_type": "stream",
     "text": [
      "Read data\n",
      "Methods: 5 Datasets: 10\n"
     ]
    }
   ],
   "source": [
    "# Assumes a formattting where rows are datasets, and the methods are columns\n",
    "\n",
    "df = pd.read_excel('Data/6.FINAL.xlsx',sheet_name='Accuracy', index_col=0)\n",
    "\n",
    "\n",
    "df =  df.iloc[:-2,:]\n",
    "data = np.asarray(df)\n",
    "\n",
    "print(\"Read data\")\n",
    "# To be safe, ensure this matches what was expected\n",
    "num_datasets, num_methods = df.shape\n",
    "print(\"Methods:\", num_methods, \"Datasets:\", num_datasets)"
   ],
   "metadata": {
    "collapsed": false
   }
  },
  {
   "cell_type": "code",
   "execution_count": 3,
   "outputs": [
    {
     "name": "stdout",
     "output_type": "stream",
     "text": [
      "Should we reject H0 (i.e. is there a difference in the means) at the 95.0 % confidence level? True\n"
     ]
    }
   ],
   "source": [
    "alpha = 0.05 # Set this to the desired alpha/signifance level\n",
    "\n",
    "stat, p = stats.friedmanchisquare(*data)\n",
    "\n",
    "reject = p <= alpha\n",
    "print(\"Should we reject H0 (i.e. is there a difference in the means) at the\", (1-alpha)*100, \"% confidence level?\", reject)"
   ],
   "metadata": {
    "collapsed": false
   }
  },
  {
   "cell_type": "code",
   "execution_count": 4,
   "outputs": [
    {
     "data": {
      "text/plain": "0.018817028401625756"
     },
     "execution_count": 4,
     "metadata": {},
     "output_type": "execute_result"
    }
   ],
   "source": [
    "p"
   ],
   "metadata": {
    "collapsed": false
   }
  },
  {
   "cell_type": "code",
   "execution_count": 5,
   "outputs": [
    {
     "data": {
      "text/plain": "19.856796116504864"
     },
     "execution_count": 5,
     "metadata": {},
     "output_type": "execute_result"
    }
   ],
   "source": [
    "stat"
   ],
   "metadata": {
    "collapsed": false
   }
  },
  {
   "cell_type": "code",
   "execution_count": 6,
   "outputs": [],
   "source": [
    "if not reject:\n",
    "    raise Exception(\"Exiting early. The rankings are only relevant if there was a difference in the means i.e. if we rejected h0 above\")"
   ],
   "metadata": {
    "collapsed": false
   }
  },
  {
   "cell_type": "code",
   "execution_count": 7,
   "outputs": [],
   "source": [
    "statistic, p_value, ranking, rank_cmp  = stac.friedman_test(*np.transpose(data))\n",
    "ranks = {key: rank_cmp[i] for i, key in enumerate(list(df.columns))}\n",
    "\n",
    "comparisons, z_values, p_values, adj_p_values = stac.holm_test(ranks, control=\"proposed\")\n",
    "adj_p_values = np.asarray(adj_p_values)"
   ],
   "metadata": {
    "collapsed": false
   }
  },
  {
   "cell_type": "code",
   "execution_count": 8,
   "outputs": [
    {
     "data": {
      "text/plain": "(array([6.16690317e-08, 3.01865766e-04, 2.92543317e-03, 1.57299207e-01]),\n [5.65685424949238, 3.889087296526011, 3.1819805153394634, 1.414213562373095])"
     },
     "execution_count": 8,
     "metadata": {},
     "output_type": "execute_result"
    }
   ],
   "source": [
    "adj_p_values,z_values"
   ],
   "metadata": {
    "collapsed": false
   }
  },
  {
   "cell_type": "code",
   "execution_count": 9,
   "outputs": [
    {
     "name": "stdout",
     "output_type": "stream",
     "text": [
      "gnb: 3.89\n",
      "svc: 1.41\n",
      "rfc: 5.66\n",
      "xgb: 3.18\n",
      "proposed: 7.07\n"
     ]
    }
   ],
   "source": [
    "for method, rank in ranks.items():\n",
    "    print(method +\":\", \"%.2f\" % rank)"
   ],
   "metadata": {
    "collapsed": false
   }
  },
  {
   "cell_type": "code",
   "execution_count": 10,
   "outputs": [],
   "source": [
    "holm_scores = pd.DataFrame({\"p\": adj_p_values, \"sig\": adj_p_values < alpha}, index=comparisons)"
   ],
   "metadata": {
    "collapsed": false
   }
  },
  {
   "cell_type": "code",
   "execution_count": 11,
   "outputs": [
    {
     "data": {
      "text/plain": "0.05"
     },
     "execution_count": 11,
     "metadata": {},
     "output_type": "execute_result"
    }
   ],
   "source": [
    "alpha"
   ],
   "metadata": {
    "collapsed": false
   }
  },
  {
   "cell_type": "code",
   "execution_count": 12,
   "outputs": [
    {
     "data": {
      "text/plain": "                            p    sig\nproposed vs svc  6.166903e-08   True\nproposed vs xgb  3.018658e-04   True\nproposed vs gnb  2.925433e-03   True\nproposed vs rfc  1.572992e-01  False",
      "text/html": "<div>\n<style scoped>\n    .dataframe tbody tr th:only-of-type {\n        vertical-align: middle;\n    }\n\n    .dataframe tbody tr th {\n        vertical-align: top;\n    }\n\n    .dataframe thead th {\n        text-align: right;\n    }\n</style>\n<table border=\"1\" class=\"dataframe\">\n  <thead>\n    <tr style=\"text-align: right;\">\n      <th></th>\n      <th>p</th>\n      <th>sig</th>\n    </tr>\n  </thead>\n  <tbody>\n    <tr>\n      <th>proposed vs svc</th>\n      <td>6.166903e-08</td>\n      <td>True</td>\n    </tr>\n    <tr>\n      <th>proposed vs xgb</th>\n      <td>3.018658e-04</td>\n      <td>True</td>\n    </tr>\n    <tr>\n      <th>proposed vs gnb</th>\n      <td>2.925433e-03</td>\n      <td>True</td>\n    </tr>\n    <tr>\n      <th>proposed vs rfc</th>\n      <td>1.572992e-01</td>\n      <td>False</td>\n    </tr>\n  </tbody>\n</table>\n</div>"
     },
     "execution_count": 12,
     "metadata": {},
     "output_type": "execute_result"
    }
   ],
   "source": [
    "holm_scores"
   ],
   "metadata": {
    "collapsed": false
   }
  },
  {
   "cell_type": "code",
   "execution_count": 12,
   "outputs": [],
   "source": [],
   "metadata": {
    "collapsed": false
   }
  }
 ],
 "metadata": {
  "kernelspec": {
   "display_name": "Python 3",
   "language": "python",
   "name": "python3"
  },
  "language_info": {
   "codemirror_mode": {
    "name": "ipython",
    "version": 2
   },
   "file_extension": ".py",
   "mimetype": "text/x-python",
   "name": "python",
   "nbconvert_exporter": "python",
   "pygments_lexer": "ipython2",
   "version": "2.7.6"
  }
 },
 "nbformat": 4,
 "nbformat_minor": 0
}
